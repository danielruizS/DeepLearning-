{
  "nbformat": 4,
  "nbformat_minor": 0,
  "metadata": {
    "colab": {
      "name": "202002_python_basic.ipynb",
      "provenance": [],
      "toc_visible": true
    },
    "kernelspec": {
      "name": "python3",
      "display_name": "Python 3"
    }
  },
  "cells": [
    {
      "cell_type": "markdown",
      "metadata": {
        "id": "Jhn-KaxZbRNb",
        "colab_type": "text"
      },
      "source": [
        "# Sección 2"
      ]
    },
    {
      "cell_type": "code",
      "metadata": {
        "id": "sN08_8_qbZQC",
        "colab_type": "code",
        "colab": {
          "base_uri": "https://localhost:8080/",
          "height": 50
        },
        "outputId": "72b7321a-dca4-4574-9427-cc7b3b71d7cb"
      },
      "source": [
        "var1, var2, var3 = input(\"ingrese los numeros separados por una coma:\").split(\",\")\n",
        "print(\"el mayor es:\"+ str(max(var1 , var2, var3)))\n"
      ],
      "execution_count": null,
      "outputs": [
        {
          "output_type": "stream",
          "text": [
            "ingrese los numeros separados por una coma:5,6,8\n",
            "el mayor es:8\n"
          ],
          "name": "stdout"
        }
      ]
    },
    {
      "cell_type": "markdown",
      "metadata": {
        "id": "RghjD_BObYbU",
        "colab_type": "text"
      },
      "source": [
        "# ingresar n numeros y sacar mayor, menor y promedio"
      ]
    },
    {
      "cell_type": "code",
      "metadata": {
        "id": "ImLFj3b6g8Zt",
        "colab_type": "code",
        "colab": {}
      },
      "source": [
        "lista = []\n",
        "cantidad = int(input (\"Ingrese la cantidad de numeros: \"))\n",
        "\n",
        "for n in range(cantidad):\n",
        "  num = int(input(\"Numero \" + str(n+1) + \": \"))\n",
        "  lista.append(num)\n",
        " \n",
        "print(\"el mayor es:\"+ str(max(lista))+\", el menor es:\"+ str(min(lista))+ \", el promedio es:\"+ str(sum(lista)/cantidad))"
      ],
      "execution_count": null,
      "outputs": []
    },
    {
      "cell_type": "markdown",
      "metadata": {
        "id": "ZnwDRufsQlLP",
        "colab_type": "text"
      },
      "source": [
        "programa que simule el juego de \"frio y caliente\" entre números de 1 a 100, el software debe genera randomicamente un número (1-100) y pedirle al usuario que ingrese un número"
      ]
    },
    {
      "cell_type": "code",
      "metadata": {
        "id": "hcNyxttvQ3jQ",
        "colab_type": "code",
        "colab": {}
      },
      "source": [
        "import random\n",
        "\n",
        "num=random.randrange(100)\n",
        "num2=0\n",
        "while num!=num2:\n",
        "  num2= int(input (\"Ingrese un numero: \"))\n",
        "  if(num + 10 >num2 and num -10 < num2):\n",
        "    print(\"caliente\")\n",
        "  else:\n",
        "    print(\"frio\")"
      ],
      "execution_count": null,
      "outputs": []
    }
  ]
}